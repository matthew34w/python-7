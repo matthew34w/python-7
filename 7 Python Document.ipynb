{
 "cells": [
  {
   "cell_type": "markdown",
   "metadata": {},
   "source": [
    "# Algorithms, Binary Search & Linked Lists"
   ]
  },
  {
   "cell_type": "markdown",
   "metadata": {},
   "source": [
    "## Tasks Today:\n",
    " \n",
    "1) <b>In-Place Algorithms</b> <br>\n",
    " &nbsp;&nbsp;&nbsp;&nbsp; a) Syntax <br>\n",
    " &nbsp;&nbsp;&nbsp;&nbsp; a) Out of Place Algorithm <br>\n",
    " &nbsp;&nbsp;&nbsp;&nbsp; b) In-Class Exercise #1 <br>\n",
    "2) <b>Two Pointers</b> <br>\n",
    "3) <b>Linked Lists</b> <br>\n",
    "4) <b>Merge Sort</b> <br>\n",
    " &nbsp;&nbsp;&nbsp;&nbsp; a) Video on Algorithms <br>\n",
    " &nbsp;&nbsp;&nbsp;&nbsp; b) How it Works <br>\n",
    "5) <b>Exercises</b> <br>\n",
    " &nbsp;&nbsp;&nbsp;&nbsp; a) Exercise #1 - Reverse a List in Place Using an In-Place Algorithm <br>\n",
    " &nbsp;&nbsp;&nbsp;&nbsp; b) Exercise #2 - Find Distinct Words <br>\n",
    " &nbsp;&nbsp;&nbsp;&nbsp; c) Exercise #3 - Write a program to implement a Linear Search Algorithm. <br>"
   ]
  },
  {
   "cell_type": "markdown",
   "metadata": {},
   "source": [
    "## In-Place Algorithms"
   ]
  },
  {
   "cell_type": "markdown",
   "metadata": {},
   "source": [
    "#### Syntax"
   ]
  },
  {
   "cell_type": "code",
   "execution_count": 1,
   "metadata": {},
   "outputs": [
    {
     "name": "stdout",
     "output_type": "stream",
     "text": [
      "Before swap:[20, 4, 10]\n",
      "after swap: [20, 10, 4]\n"
     ]
    }
   ],
   "source": [
    "#var[i], var[i+1] = var[i+1], var[i]\n",
    "#sometimes know as a swap algorithim\n",
    "\n",
    "def swap(a_list,x,y,z):\n",
    "    a_list[x],a_list[y],a_list[z]=a_list[z],a_list[y],a_list[x]\n",
    "\n",
    "    return(a_list)\n",
    "\n",
    "\n",
    "my_list = [20,4,10]\n",
    "\n",
    "print(f'Before swap:{my_list}')\n",
    "\n",
    "#swap\n",
    "swap(my_list,2,0,1)\n",
    "\n",
    "print(f'after swap: {my_list}')"
   ]
  },
  {
   "cell_type": "markdown",
   "metadata": {},
   "source": [
    "#### Out of Place Algorithm"
   ]
  },
  {
   "cell_type": "code",
   "execution_count": 4,
   "metadata": {},
   "outputs": [
    {
     "name": "stdout",
     "output_type": "stream",
     "text": [
      "[4, 10, 20]\n",
      "[20, 10, 4]\n",
      "Before ['a', 'b', 'c', 'd']\n",
      "after ['d', 'c', 'b', 'a']\n"
     ]
    }
   ],
   "source": [
    "#not swapping, completely but also copies to another place in memory\n",
    "\n",
    "my_list_copy = my_list[:: -1]\n",
    "\n",
    "print(my_list_copy)\n",
    "\n",
    "print(my_list)\n",
    "\n",
    "array = ['a','b','c','d']\n",
    "new_array = ['a']* len(array)\n",
    "\n",
    "print('Before', array)\n",
    "length = len(array)-1\n",
    "\n",
    "for i in range (length):\n",
    "    new_array[i] = array[length -i]\n",
    "\n",
    "array = new_array\n",
    "print('after',array)\n"
   ]
  },
  {
   "cell_type": "markdown",
   "metadata": {},
   "source": [
    "#### In-Class Exercise #1 <br>\n",
    "<p>Write a function that takes in four arguments (list, index1, index2, index3), and swaps those three positions in the list passed in.</p>"
   ]
  },
  {
   "cell_type": "code",
   "execution_count": 7,
   "metadata": {},
   "outputs": [
    {
     "data": {
      "text/plain": [
       "[10, 8, 3, 4, 4, 2, 6]"
      ]
     },
     "execution_count": 7,
     "metadata": {},
     "output_type": "execute_result"
    }
   ],
   "source": [
    "\n",
    "\n",
    "def swap_ex(b_list,a,b,c):\n",
    "    b_list[a],b_list[b],b_list[c]= b_list[c], b_list[b],b_list[a]\n",
    "\n",
    "    return(b_list)\n",
    "list_1 = [10, 4, 3, 8, 4, 2, 6]\n",
    "\n",
    "swap_ex(list_1,1,2,3)\n",
    "\n",
    "\n"
   ]
  },
  {
   "cell_type": "markdown",
   "metadata": {},
   "source": [
    "## Two Pointers"
   ]
  },
  {
   "cell_type": "markdown",
   "metadata": {},
   "source": [
    "#### Syntax"
   ]
  },
  {
   "cell_type": "code",
   "execution_count": 10,
   "metadata": {},
   "outputs": [
    {
     "data": {
      "text/plain": [
       "[22, 11, 4, 8, 9, 12, 3, 2, 1]"
      ]
     },
     "execution_count": 10,
     "metadata": {},
     "output_type": "execute_result"
    }
   ],
   "source": [
    "# alist[left], alist[right] = alist[right],alist[left]\n",
    "\n",
    "def twoPointers(alist):\n",
    "    left = 0\n",
    "    right = len(alist) -1\n",
    "    # set up a loop that works through our list and swaps things one pair a a time\n",
    "\n",
    "    while left<= right:\n",
    "        alist[left],alist[right]= alist[right],alist[left]\n",
    "        left += 1\n",
    "        right -= 1\n",
    "\n",
    "    return alist\n",
    "\n",
    "my_list2 = [1,2,3,12,9,8,4,11,22]\n",
    "\n",
    "twoPointers(my_list2)"
   ]
  },
  {
   "cell_type": "markdown",
   "metadata": {},
   "source": [
    "#### Video of Algorithms <br>\n",
    "<p>Watch the video about algorithms.</p>\n",
    "\n",
    "https://www.youtube.com/watch?v=Q9HjeFD62Uk\n",
    "\n",
    "https://www.youtube.com/watch?v=kPRA0W1kECg\n",
    "\n",
    "https://www.youtube.com/watch?v=ZZuD6iUe3Pc"
   ]
  },
  {
   "cell_type": "markdown",
   "metadata": {},
   "source": [
    "# Sorting Algorithms"
   ]
  },
  {
   "cell_type": "markdown",
   "metadata": {},
   "source": [
    "#### Bubble Sort\n",
    "\n",
    "Worst Case: O(n^2) Time - O(1) Space"
   ]
  },
  {
   "cell_type": "code",
   "execution_count": 2,
   "metadata": {},
   "outputs": [
    {
     "data": {
      "text/plain": [
       "[1, 22, 34, 44, 55, 66, 88, 100]"
      ]
     },
     "execution_count": 2,
     "metadata": {},
     "output_type": "execute_result"
    }
   ],
   "source": [
    "# best case O(n) - linear\n",
    "\n",
    "def swap(i,j,array):\n",
    "    array[i],array[j] = array[j],array[i]\n",
    "\n",
    "def bubblesort(array):\n",
    "    isSorted = False \n",
    "    while not isSorted:\n",
    "        isSorted = True\n",
    "        for num in range(len(array)- 1):\n",
    "            if array[num] > array[num+1]:\n",
    "                swap(num,num+1,array)\n",
    "                isSorted = False\n",
    "    return array\n",
    "\n",
    "bubblesort([22,55,88,44,1,100,34,66])\n",
    "\n",
    "        "
   ]
  },
  {
   "cell_type": "markdown",
   "metadata": {},
   "source": [
    "##### Insertion Sort\n",
    "\n",
    "Worst Case: O(n^2) time - O(1)space"
   ]
  },
  {
   "cell_type": "code",
   "execution_count": 5,
   "metadata": {},
   "outputs": [
    {
     "data": {
      "text/plain": [
       "[1, 22, 34, 44, 55, 66, 88, 100]"
      ]
     },
     "execution_count": 5,
     "metadata": {},
     "output_type": "execute_result"
    }
   ],
   "source": [
    "def swap(i,j,array):\n",
    "    array[i],array[j] = array[j],array[i]\n",
    "\n",
    "def insertionSort(array):\n",
    "    for i in range (1,len(array)):\n",
    "        j = i\n",
    "        while j>0 and array[j] < array[j-1]:\n",
    "            swap(j,j-1,array)\n",
    "            j -=1\n",
    "    return array\n",
    "insertionSort([22,55,88,44,1,100,34,66])"
   ]
  },
  {
   "cell_type": "markdown",
   "metadata": {},
   "source": [
    "## Merge Sort"
   ]
  },
  {
   "cell_type": "markdown",
   "metadata": {},
   "source": [
    "#### How it Works"
   ]
  },
  {
   "cell_type": "code",
   "execution_count": 7,
   "metadata": {},
   "outputs": [
    {
     "name": "stdout",
     "output_type": "stream",
     "text": [
      "splitting... [5, 13, 10, 14, 5]\n",
      "splitting... [5, 13]\n",
      "merging... [5, 13]\n",
      "splitting... [10, 14, 5]\n",
      "splitting... [10]\n",
      "merging... [10]\n",
      "splitting... [14, 5]\n",
      "merging... [14, 5]\n"
     ]
    },
    {
     "ename": "IndexError",
     "evalue": "list assignment index out of range",
     "output_type": "error",
     "traceback": [
      "\u001b[1;31m---------------------------------------------------------------------------\u001b[0m",
      "\u001b[1;31mIndexError\u001b[0m                                Traceback (most recent call last)",
      "\u001b[1;32mc:\\Users\\Matth\\OneDrive\\Documents\\Coding temple\\python\\7 Python Document.ipynb Cell 21\u001b[0m line \u001b[0;36m6\n\u001b[0;32m     <a href='vscode-notebook-cell:/c%3A/Users/Matth/OneDrive/Documents/Coding%20temple/python/7%20Python%20Document.ipynb#X26sZmlsZQ%3D%3D?line=56'>57</a>\u001b[0m     \u001b[39mprint\u001b[39m(\u001b[39m'\u001b[39m\u001b[39mmerging...\u001b[39m\u001b[39m'\u001b[39m, alist)\n\u001b[0;32m     <a href='vscode-notebook-cell:/c%3A/Users/Matth/OneDrive/Documents/Coding%20temple/python/7%20Python%20Document.ipynb#X26sZmlsZQ%3D%3D?line=57'>58</a>\u001b[0m     \u001b[39mreturn\u001b[39;00m(alist)\n\u001b[1;32m---> <a href='vscode-notebook-cell:/c%3A/Users/Matth/OneDrive/Documents/Coding%20temple/python/7%20Python%20Document.ipynb#X26sZmlsZQ%3D%3D?line=60'>61</a>\u001b[0m mergeSort(nums)\n",
      "\u001b[1;32mc:\\Users\\Matth\\OneDrive\\Documents\\Coding temple\\python\\7 Python Document.ipynb Cell 21\u001b[0m line \u001b[0;36m2\n\u001b[0;32m     <a href='vscode-notebook-cell:/c%3A/Users/Matth/OneDrive/Documents/Coding%20temple/python/7%20Python%20Document.ipynb#X26sZmlsZQ%3D%3D?line=23'>24</a>\u001b[0m  \u001b[39m#recursively call mergeSort to perform splits if needed\u001b[39;00m\n\u001b[0;32m     <a href='vscode-notebook-cell:/c%3A/Users/Matth/OneDrive/Documents/Coding%20temple/python/7%20Python%20Document.ipynb#X26sZmlsZQ%3D%3D?line=24'>25</a>\u001b[0m  \u001b[39m#then merge once the splits are done \u001b[39;00m\n\u001b[0;32m     <a href='vscode-notebook-cell:/c%3A/Users/Matth/OneDrive/Documents/Coding%20temple/python/7%20Python%20Document.ipynb#X26sZmlsZQ%3D%3D?line=25'>26</a>\u001b[0m mergeSort(lefthalf)\n\u001b[1;32m---> <a href='vscode-notebook-cell:/c%3A/Users/Matth/OneDrive/Documents/Coding%20temple/python/7%20Python%20Document.ipynb#X26sZmlsZQ%3D%3D?line=26'>27</a>\u001b[0m mergeSort(righthalf)\n\u001b[0;32m     <a href='vscode-notebook-cell:/c%3A/Users/Matth/OneDrive/Documents/Coding%20temple/python/7%20Python%20Document.ipynb#X26sZmlsZQ%3D%3D?line=28'>29</a>\u001b[0m \u001b[39m#index pointers for our list \u001b[39;00m\n\u001b[0;32m     <a href='vscode-notebook-cell:/c%3A/Users/Matth/OneDrive/Documents/Coding%20temple/python/7%20Python%20Document.ipynb#X26sZmlsZQ%3D%3D?line=30'>31</a>\u001b[0m i \u001b[39m=\u001b[39m \u001b[39m0\u001b[39m \u001b[39m#pointer for our left half\u001b[39;00m\n",
      "\u001b[1;32mc:\\Users\\Matth\\OneDrive\\Documents\\Coding temple\\python\\7 Python Document.ipynb Cell 21\u001b[0m line \u001b[0;36m3\n\u001b[0;32m     <a href='vscode-notebook-cell:/c%3A/Users/Matth/OneDrive/Documents/Coding%20temple/python/7%20Python%20Document.ipynb#X26sZmlsZQ%3D%3D?line=35'>36</a>\u001b[0m \u001b[39mwhile\u001b[39;00m i \u001b[39m<\u001b[39m \u001b[39mlen\u001b[39m(lefthalf) \u001b[39mand\u001b[39;00m j \u001b[39m<\u001b[39m\u001b[39mlen\u001b[39m(righthalf):\n\u001b[0;32m     <a href='vscode-notebook-cell:/c%3A/Users/Matth/OneDrive/Documents/Coding%20temple/python/7%20Python%20Document.ipynb#X26sZmlsZQ%3D%3D?line=36'>37</a>\u001b[0m     \u001b[39mif\u001b[39;00m lefthalf[i] \u001b[39m<\u001b[39m righthalf[j]:\n\u001b[1;32m---> <a href='vscode-notebook-cell:/c%3A/Users/Matth/OneDrive/Documents/Coding%20temple/python/7%20Python%20Document.ipynb#X26sZmlsZQ%3D%3D?line=37'>38</a>\u001b[0m         alist[k] \u001b[39m=\u001b[39m lefthalf[i]\n\u001b[0;32m     <a href='vscode-notebook-cell:/c%3A/Users/Matth/OneDrive/Documents/Coding%20temple/python/7%20Python%20Document.ipynb#X26sZmlsZQ%3D%3D?line=39'>40</a>\u001b[0m     \u001b[39melse\u001b[39;00m:\n\u001b[0;32m     <a href='vscode-notebook-cell:/c%3A/Users/Matth/OneDrive/Documents/Coding%20temple/python/7%20Python%20Document.ipynb#X26sZmlsZQ%3D%3D?line=40'>41</a>\u001b[0m         alist[k] \u001b[39m=\u001b[39m righthalf[j]\n",
      "\u001b[1;31mIndexError\u001b[0m: list assignment index out of range"
     ]
    }
   ],
   "source": [
    "#step 1: Split everything into its own group\n",
    "#step 2: From left to right, merge two groups together\n",
    "#step 3: while merging, place each item in the correct position within the merged group\n",
    "#step 4: continue steps 3-4 until only one group is left\n",
    "\n",
    "from random import randint\n",
    "# used to generate a random list of 5 numbers from 0-20 \n",
    "\n",
    "nums = [randint(0,20)for i in range(5)]\n",
    "\n",
    "#write our merge sort below\n",
    "\n",
    "def mergeSort(alist):\n",
    "\n",
    "    print('splitting...', alist)\n",
    "\n",
    "    #step 1: Divide the array into equal parts (as much as possible)\n",
    "\n",
    "    if len(alist)>2:\n",
    "        mid = len(alist)//2\n",
    "        lefthalf = alist[:mid]\n",
    "        righthalf = alist[mid:]\n",
    "\n",
    "         #recursively call mergeSort to perform splits if needed\n",
    "         #then merge once the splits are done \n",
    "        mergeSort(lefthalf)\n",
    "        mergeSort(righthalf)\n",
    "\n",
    "        #index pointers for our list \n",
    "\n",
    "        i = 0 #pointer for our left half\n",
    "        j = 0 #pointer for our right half\n",
    "        k = 0 # pointer for our main array\n",
    "\n",
    "        # step 2: Compare the left half and the right half  \n",
    "        while i < len(lefthalf) and j <len(righthalf):\n",
    "            if lefthalf[i] < righthalf[j]:\n",
    "                alist[k] = lefthalf[i]\n",
    "\n",
    "            else:\n",
    "                alist[k] = righthalf[j]\n",
    "                j = j+1\n",
    "\n",
    "            k = k +1\n",
    "\n",
    "        #step 3: while merging , place items in the correct positions \n",
    "        while i < len(lefthalf):\n",
    "            alist[k] = lefthalf[i]\n",
    "            i=i+1\n",
    "            k=k+1\n",
    "\n",
    "        while j< len(righthalf):\n",
    "            alist[k] = righthalf[j]\n",
    "            j=j +1\n",
    "            k=k+1\n",
    "\n",
    "    print('merging...', alist)\n",
    "    return(alist)\n",
    "\n",
    "\n",
    "mergeSort(nums)\n",
    "\n",
    "\n",
    "\n",
    "        \n",
    "        \n"
   ]
  },
  {
   "cell_type": "markdown",
   "metadata": {},
   "source": [
    "# Binary Search\n",
    "\n",
    "The Binary Search algorithm works by finding the number in the middle of a given array and comparing it to the target. Given that the array is sorted\n",
    "\n",
    "* The worst case run time for this algorithm is `O(log(n))`"
   ]
  },
  {
   "cell_type": "code",
   "execution_count": 1,
   "metadata": {},
   "outputs": [
    {
     "data": {
      "text/plain": [
       "'The index is ...1'"
      ]
     },
     "execution_count": 1,
     "metadata": {},
     "output_type": "execute_result"
    }
   ],
   "source": [
    "#less = left \n",
    "# greater = right \n",
    "# list of number MuST be sorted\n",
    "\n",
    "def binarysearchhelperFunction(array,target,left,right):\n",
    "    while left <= right :\n",
    "        middle = (left + right) // 2\n",
    "        potentialMatch = array [middle]\n",
    "        if target == potentialMatch:\n",
    "            return (f'The index is ...{middle}')\n",
    "        elif target < potentialMatch :\n",
    "            right = middle -1 \n",
    "        \n",
    "        else:\n",
    "            left = middle + 1\n",
    "\n",
    "    return -1\n",
    "\n",
    "\n",
    "def binarySearch(array, target):\n",
    "    return binarysearchhelperFunction (array,target,0,len(array)-1)\n",
    "\n",
    "binarySearch([22,44,55,66,88,100],44)\n"
   ]
  },
  {
   "cell_type": "markdown",
   "metadata": {},
   "source": [
    "# Exercises"
   ]
  },
  {
   "cell_type": "markdown",
   "metadata": {},
   "source": [
    "### Exercise #1 <br>\n",
    "<p>Reverse the list below in-place using an in-place algorithm.<br>For extra credit: Reverse the strings at the same time.</p>"
   ]
  },
  {
   "cell_type": "code",
   "execution_count": 1,
   "metadata": {},
   "outputs": [
    {
     "name": "stdout",
     "output_type": "stream",
     "text": [
      "['.', 'sentence', 'a', 'is', 'this']\n"
     ]
    }
   ],
   "source": [
    "words = ['this' , 'is', 'a', 'sentence', '.']\n",
    "\n",
    "\n",
    "left, right = 0, len(words) - 1\n",
    "\n",
    "while left < right:\n",
    "   \n",
    "    words[left], words[right] = words[right], words[left]\n",
    "\n",
    "    left += 1\n",
    "    right -= 1\n",
    "\n",
    "print(words)\n"
   ]
  },
  {
   "cell_type": "markdown",
   "metadata": {},
   "source": [
    "### Exercise #2 <br>\n",
    "<p>Create a function that counts how many distinct words are in the string below, then outputs a dictionary with the words as the key and the value as the amount of times that word appears in the string.<br>Should output:<br>{'a': 5,<br>\n",
    " 'abstract': 1,<br>\n",
    " 'an': 3,<br>\n",
    " 'array': 2, ... etc...</p>"
   ]
  },
  {
   "cell_type": "code",
   "execution_count": 4,
   "metadata": {},
   "outputs": [
    {
     "name": "stdout",
     "output_type": "stream",
     "text": [
      "{'In': 1, 'computing,': 1, 'a': 4, 'hash': 4, 'table': 2, 'map': 2, 'is': 1, 'data': 2, 'structure': 2, 'which': 2, 'implements': 1, 'an': 3, 'associative': 1, 'array': 2, 'abstract': 1, 'type,': 1, 'that': 1, 'can': 2, 'keys': 1, 'to': 2, 'values.': 1, 'A': 1, 'uses': 1, 'function': 1, 'compute': 1, 'index': 1, 'into': 1, 'of': 1, 'buckets': 1, 'or': 1, 'slots': 1, 'from': 1, 'the': 1, 'desired': 1, 'value': 1, 'be': 1, 'found': 1}\n"
     ]
    }
   ],
   "source": [
    "\n",
    "def word_count(text):\n",
    "    \n",
    "    words = text.split()\n",
    "\n",
    "    \n",
    "    word_counts = {}\n",
    "\n",
    "   \n",
    "    for word in words:\n",
    "    \n",
    "        word_counts[word] = word_counts.get(word, 0) + 1\n",
    "\n",
    "    return word_counts\n",
    "\n",
    "a_text = 'In computing, a hash table hash map is a data structure which implements an associative array abstract data type, a structure that can map keys to values. A hash table uses a hash function to compute an index into an array of buckets or slots from which the desired value can be found'\n",
    "\n",
    "\n",
    "answer = word_count(a_text)\n",
    "print(answer)"
   ]
  },
  {
   "cell_type": "markdown",
   "metadata": {},
   "source": [
    "## Exercise #3\n",
    "\n",
    "Write a program to implement a Linear Search Algorithm. Also in a comment, write the Time Complexity of the following algorithm.\n",
    "\n",
    "#### Hint: Linear Searching will require searching a list for a given number. "
   ]
  },
  {
   "cell_type": "code",
   "execution_count": 5,
   "metadata": {},
   "outputs": [
    {
     "name": "stdout",
     "output_type": "stream",
     "text": [
      "Element 5 found at index 4.\n"
     ]
    }
   ],
   "source": [
    "def linear_search(arr, target):\n",
    "    \n",
    "    for i in range(len(arr)):\n",
    "        if arr[i] == target:\n",
    "            return i  \n",
    "    return -1  \n",
    "\n",
    "\n",
    "my_list = [1, 2, 3, 4, 5, 6, 7, 8, 9]\n",
    "target_element = 5\n",
    "\n",
    "result = linear_search(my_list, target_element)\n",
    "if result != -1:\n",
    "    print(f\"Element {target_element} found at index {result}.\")\n",
    "else:\n",
    "    print(f\"Element {target_element} not found in the list.\")\n",
    "\n",
    "\n",
    "\n",
    "# Time Complexity: O(n)\n",
    "# the Linear Search algorithm needs to traverse the entire list of n elements to find the target.\n",
    "# the time complexity is linear with respect to the size of the input list.\n"
   ]
  }
 ],
 "metadata": {
  "kernelspec": {
   "display_name": "Python 3",
   "language": "python",
   "name": "python3"
  },
  "language_info": {
   "codemirror_mode": {
    "name": "ipython",
    "version": 3
   },
   "file_extension": ".py",
   "mimetype": "text/x-python",
   "name": "python",
   "nbconvert_exporter": "python",
   "pygments_lexer": "ipython3",
   "version": "3.11.7"
  }
 },
 "nbformat": 4,
 "nbformat_minor": 2
}
